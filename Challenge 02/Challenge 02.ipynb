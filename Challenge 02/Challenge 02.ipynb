{
 "cells": [
  {
   "cell_type": "code",
   "execution_count": 2,
   "metadata": {
    "collapsed": false
   },
   "outputs": [
    {
     "name": "stdout",
     "output_type": "stream",
     "text": [
      "  0 Chantaje\n",
      "  1 La Bicicleta\n",
      "  2 Hips Don't Lie\n",
      "  3 Try Everything\n",
      "  4 Waka Waka (This Time for Africa) (The Official 2010 FIFA World Cup (TM) Song)\n",
      "  5 La Tortura\n",
      "  6 Whenever, Wherever\n",
      "  7 Mi verdad - feat. Shakira\n",
      "  8 La Bicicleta - Remix\n",
      "  9 Can't Remember to Forget You\n",
      "  10 Mi verdad - feat. Shakira\n",
      "  11 She Wolf\n",
      "  12 Dare (La La La)\n",
      "  13 Can't Remember to Forget You\n",
      "  14 Loca\n",
      "  15 La La La\n",
      "  16 Can't Remember to Forget You\n",
      "  17 Empire\n",
      "  18 Dare (La La La)\n",
      "  19 Empire\n"
     ]
    }
   ],
   "source": [
    "import spotipy\n",
    "sp = spotipy.Spotify()\n",
    "\n",
    "results = sp.search(q='shakira', limit=20)\n",
    "for i, t in enumerate(results['tracks']['items']):\n",
    "    print ' ', i, t['name']\n"
   ]
  },
  {
   "cell_type": "code",
   "execution_count": null,
   "metadata": {
    "collapsed": true
   },
   "outputs": [],
   "source": []
  }
 ],
 "metadata": {
  "kernelspec": {
   "display_name": "Python 2",
   "language": "python",
   "name": "python2"
  },
  "language_info": {
   "codemirror_mode": {
    "name": "ipython",
    "version": 2
   },
   "file_extension": ".py",
   "mimetype": "text/x-python",
   "name": "python",
   "nbconvert_exporter": "python",
   "pygments_lexer": "ipython2",
   "version": "2.7.12"
  }
 },
 "nbformat": 4,
 "nbformat_minor": 1
}
